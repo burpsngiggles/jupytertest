{
 "cells": [
  {
   "cell_type": "markdown",
   "metadata": {},
   "source": [
    "# Writing python code within jupyter notebooks"
   ]
  },
  {
   "cell_type": "markdown",
   "metadata": {},
   "source": [
    "## First, counting csv items with traditional loop structures"
   ]
  },
  {
   "cell_type": "markdown",
   "metadata": {},
   "source": [
    "Before starting, I want to make sure I know where I am working so I can copy my csv file there. The exclamation point lets me run shell commands, \"cd\" without argument returns the current working directory in Windows."
   ]
  },
  {
   "cell_type": "code",
   "execution_count": 1,
   "metadata": {
    "collapsed": false
   },
   "outputs": [
    {
     "name": "stdout",
     "output_type": "stream",
     "text": [
      "C:\\Users\\mikes_000\\Desktop\n"
     ]
    }
   ],
   "source": [
    "!cd"
   ]
  },
  {
   "cell_type": "markdown",
   "metadata": {},
   "source": [
    "Python can read in a csv file, but needs to load the extra library to do it nice and clean. Most of the csv files I have hanging around belong to the MIND Center and cannot be uploaded to a public site like this, but I also have some fake data that I generated randomly representing a bunch of student ids and their preference for class section: A, B, or C."
   ]
  },
  {
   "cell_type": "code",
   "execution_count": 2,
   "metadata": {
    "collapsed": false
   },
   "outputs": [
    {
     "name": "stdout",
     "output_type": "stream",
     "text": [
      "[0] Student 5128 wants section C, but not B\n",
      "[200] Student 1700 wants section C, but not B\n",
      "[400] Student 553 wants section B, but not C\n",
      "[600] Student 6446 wants section B, but not C\n",
      "[800] Student 7817 wants section B, but not C\n"
     ]
    }
   ],
   "source": [
    "import csv  # load the library to handle delimited text files\n",
    "\n",
    "with open('.\\class.csv') as preferencefile:\n",
    "    # Instantiate the csv.reader object based on the file just opened\n",
    "    myreader = csv.reader(preferencefile, delimiter=',')\n",
    "    # Skip the header row; I only want the data\n",
    "    next(myreader, None)\n",
    "    # I don't NEED enumerate, but it will allow me to know which row I'm on without adding my own counter.\n",
    "    # More simply, \"for student in myreader\" would allow the same loop but without counting lines.\n",
    "    for i, student in enumerate(myreader):\n",
    "        # I randomly created 1000 students, so don't want to print them all. Every 200 will do.\n",
    "        if i % 200 == 0:\n",
    "            # This is a fairly complicated print statement. See if you can figure it out...\n",
    "            # The i refers to the enumerate() counter.\n",
    "            # \"student\" ends up being a list of everything else on one row of the file\n",
    "            # You can name your variable list: {num} {id}; or order it: {0} {1}, etc.\n",
    "            print(\"[{num}] Student {id} wants section {fave}, but not {hate}\".format(\n",
    "                num=i, id=student[0], fave=student[1], hate=student[3]))"
   ]
  },
  {
   "cell_type": "markdown",
   "metadata": {},
   "source": [
    "The following code is the same as above (but comments only for new lines), but adds a dictionary to count the breakdown in demand for class sections."
   ]
  },
  {
   "cell_type": "code",
   "execution_count": 3,
   "metadata": {
    "collapsed": false
   },
   "outputs": [
    {
     "name": "stdout",
     "output_type": "stream",
     "text": [
      "    [0] Student 5128 wants section C, but not B\n",
      "    [200] Student 1700 wants section C, but not B\n",
      "    [400] Student 553 wants section B, but not C\n",
      "    [600] Student 6446 wants section B, but not C\n",
      "    [800] Student 7817 wants section B, but not C\n",
      "Students' first choices (n=1000):\n",
      "    285 (28.5%) students want section B.\n",
      "    614 (61.4%) students want section A.\n",
      "    101 (10.1%) students want section C.\n"
     ]
    }
   ],
   "source": [
    "import csv\n",
    "from collections import Counter  # we want to use the Counter to count preference items\n",
    "\n",
    "with open('.\\class.csv') as preferencefile:\n",
    "    # Create a Counter dictionary to hold counts of each section preference\n",
    "    c = Counter()\n",
    "    myreader = csv.reader(preferencefile, delimiter=',')\n",
    "    next(myreader, None)\n",
    "    for i, student in enumerate(myreader):\n",
    "        # For EVERY row, count the student's first choice section\n",
    "        c[student[1]] += 1\n",
    "        if i % 200 == 0:\n",
    "            print(\"    [{num}] Student {id} wants section {fave}, but not {hate}\".format(\n",
    "                num=i, id=student[0], fave=student[1], hate=student[3]))\n",
    "# Count up a summary of the students' preferences and report them.\n",
    "print(\"Students' first choices (n={0}):\".format(i+1))\n",
    "for pref, count in c.items():\n",
    "    # You can see some of the formatting flexibility below, treating term 2 as a percentage with one decimal place.\n",
    "    print(\"    {0} ({2:.1f}%) students want section {1}.\".format(count, pref, 100*(count/(i+1)) ))"
   ]
  },
  {
   "cell_type": "markdown",
   "metadata": {},
   "source": [
    "This is a very simple example of how to pull summary data out of a csv file in python."
   ]
  },
  {
   "cell_type": "markdown",
   "metadata": {},
   "source": [
    "## Second, counting the same items with numpy"
   ]
  },
  {
   "cell_type": "markdown",
   "metadata": {},
   "source": [
    "Languages like R were designed to perform one operation on every item in a collection without the need for a loop. Python has been extended to do the same type operations with numpy, which allows matrix-like arrays so it can compete with matlab. Scipy builds on top of numpy by providing signal processing algorithms like FFTs that make analyzing sleep data possible. Pandas is also built on top of numpy to allow you to treat data sets like a database table and do statistical analyses with reasonable treatment of missing data. You could do all of these things on your own with python, but it's nice somebody else spent their time to write all of the code for us."
   ]
  },
  {
   "cell_type": "markdown",
   "metadata": {},
   "source": [
    "The following does almost the same thing we did above, but using the numpy stack."
   ]
  },
  {
   "cell_type": "code",
   "execution_count": 4,
   "metadata": {
    "collapsed": false
   },
   "outputs": [
    {
     "name": "stdout",
     "output_type": "stream",
     "text": [
      "A    614\n",
      "B    285\n",
      "C    101\n",
      "Name: first, dtype: int64\n"
     ]
    }
   ],
   "source": [
    "# First, grab ahold of the code\n",
    "import numpy as np\n",
    "import pandas as pp\n",
    "\n",
    "# Next, read the csv and save it all to memory in one step.\n",
    "mydata = pp.read_csv('./class.csv')\n",
    "# Finally, summarize the frequency table using the pandas value_counts function\n",
    "print(mydata['first'].value_counts())"
   ]
  },
  {
   "cell_type": "markdown",
   "metadata": {},
   "source": [
    "Since I haven't used any of the numpy stack before, I can't do much with it, but it works a lot like R. If you learn either pandas or R, you could probably switch back and forth fairly easily. That's what I'm working on, now. Take a look at http://pandas.pydata.org/pandas-docs/stable/10min.html when you have time to think and experiment. The \"10 minutes\" bit is probably true for someone who is already expert at both python and R, and just needs to see how pandas is implemented."
   ]
  }
 ],
 "metadata": {
  "kernelspec": {
   "display_name": "Python 3",
   "language": "python",
   "name": "python3"
  },
  "language_info": {
   "codemirror_mode": {
    "name": "ipython",
    "version": 3
   },
   "file_extension": ".py",
   "mimetype": "text/x-python",
   "name": "python",
   "nbconvert_exporter": "python",
   "pygments_lexer": "ipython3",
   "version": "3.5.1"
  }
 },
 "nbformat": 4,
 "nbformat_minor": 0
}
